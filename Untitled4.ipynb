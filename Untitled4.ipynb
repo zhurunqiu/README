{
 "cells": [
  {
   "cell_type": "code",
   "execution_count": 1,
   "id": "c5320423",
   "metadata": {},
   "outputs": [
    {
     "name": "stdout",
     "output_type": "stream",
     "text": [
      "当前工作目录: D:\\Data\\Shap\n"
     ]
    }
   ],
   "source": [
    "import os\n",
    "\n",
    "# 获取当前工作目录\n",
    "\n",
    "current_directory = os.getcwd()\n",
    "\n",
    "print(\"当前工作目录:\", current_directory)"
   ]
  },
  {
   "cell_type": "code",
   "execution_count": 2,
   "id": "d051b47e",
   "metadata": {},
   "outputs": [],
   "source": [
    "import pandas as pd\n",
    "          \n",
    "import numpy as np\n",
    "\n",
    "import matplotlib.pyplot as plt\n",
    "          \n",
    "from sklearn.model_selection import train_test_split   "
   ]
  },
  {
   "cell_type": "code",
   "execution_count": 3,
   "id": "0f4a6389",
   "metadata": {},
   "outputs": [],
   "source": [
    "# 设置字体为新罗马数字\n",
    "plt.rcParams['font.family'] = 'Times New Roman'\n",
    "\n",
    "# 处理负号          \n",
    "plt.rcParams['axes.unicode_minus'] = False\n",
    "\n",
    "# 忽略警告\n",
    "import warnings\n",
    "          \n",
    "warnings.filterwarnings(\"ignore\")"
   ]
  },
  {
   "cell_type": "code",
   "execution_count": 4,
   "id": "7e6dde01",
   "metadata": {},
   "outputs": [],
   "source": [
    "# 读取数据\n",
    "\n",
    "df = pd.read_csv('Data_target.csv')\n",
    "\n",
    "# 删除 NaN 值\n",
    "\n",
    "df.dropna(inplace=True)\n",
    "\n",
    "# 检查是否还存在缺失值 print(df.isnull().sum())"
   ]
  },
  {
   "cell_type": "code",
   "execution_count": 5,
   "id": "15363f8e",
   "metadata": {},
   "outputs": [],
   "source": [
    "# 划分特征和目标变量 \n",
    "\n",
    "# 删除 'target' 列\n",
    "\n",
    "X = df.drop(['Target'], axis=1)        \n",
    "\n",
    "# 获取 'target' 列作为目标变量\n",
    "\n",
    "y = df['Target']  "
   ]
  },
  {
   "cell_type": "code",
   "execution_count": 6,
   "id": "ca6413e9",
   "metadata": {},
   "outputs": [
    {
     "data": {
      "text/html": [
       "<div>\n",
       "<style scoped>\n",
       "    .dataframe tbody tr th:only-of-type {\n",
       "        vertical-align: middle;\n",
       "    }\n",
       "\n",
       "    .dataframe tbody tr th {\n",
       "        vertical-align: top;\n",
       "    }\n",
       "\n",
       "    .dataframe thead th {\n",
       "        text-align: right;\n",
       "    }\n",
       "</style>\n",
       "<table border=\"1\" class=\"dataframe\">\n",
       "  <thead>\n",
       "    <tr style=\"text-align: right;\">\n",
       "      <th></th>\n",
       "      <th>Size</th>\n",
       "      <th>TT</th>\n",
       "      <th>DOI</th>\n",
       "      <th>TB</th>\n",
       "      <th>BASO%</th>\n",
       "      <th>NLR</th>\n",
       "      <th>Grade</th>\n",
       "      <th>PNI</th>\n",
       "      <th>LVI</th>\n",
       "      <th>Target</th>\n",
       "    </tr>\n",
       "  </thead>\n",
       "  <tbody>\n",
       "    <tr>\n",
       "      <th>0</th>\n",
       "      <td>15</td>\n",
       "      <td>5.49</td>\n",
       "      <td>3.8</td>\n",
       "      <td>2</td>\n",
       "      <td>0.7</td>\n",
       "      <td>2.29</td>\n",
       "      <td>2</td>\n",
       "      <td>0</td>\n",
       "      <td>0</td>\n",
       "      <td>0</td>\n",
       "    </tr>\n",
       "    <tr>\n",
       "      <th>1</th>\n",
       "      <td>16</td>\n",
       "      <td>5.57</td>\n",
       "      <td>3.0</td>\n",
       "      <td>1</td>\n",
       "      <td>0.4</td>\n",
       "      <td>3.21</td>\n",
       "      <td>2</td>\n",
       "      <td>0</td>\n",
       "      <td>0</td>\n",
       "      <td>0</td>\n",
       "    </tr>\n",
       "    <tr>\n",
       "      <th>2</th>\n",
       "      <td>15</td>\n",
       "      <td>10.61</td>\n",
       "      <td>0.2</td>\n",
       "      <td>1</td>\n",
       "      <td>0.8</td>\n",
       "      <td>2.23</td>\n",
       "      <td>2</td>\n",
       "      <td>0</td>\n",
       "      <td>0</td>\n",
       "      <td>0</td>\n",
       "    </tr>\n",
       "    <tr>\n",
       "      <th>3</th>\n",
       "      <td>10</td>\n",
       "      <td>11.33</td>\n",
       "      <td>3.1</td>\n",
       "      <td>1</td>\n",
       "      <td>1.1</td>\n",
       "      <td>2.00</td>\n",
       "      <td>2</td>\n",
       "      <td>0</td>\n",
       "      <td>0</td>\n",
       "      <td>0</td>\n",
       "    </tr>\n",
       "    <tr>\n",
       "      <th>4</th>\n",
       "      <td>28</td>\n",
       "      <td>5.84</td>\n",
       "      <td>3.2</td>\n",
       "      <td>2</td>\n",
       "      <td>0.1</td>\n",
       "      <td>2.29</td>\n",
       "      <td>2</td>\n",
       "      <td>0</td>\n",
       "      <td>0</td>\n",
       "      <td>0</td>\n",
       "    </tr>\n",
       "  </tbody>\n",
       "</table>\n",
       "</div>"
      ],
      "text/plain": [
       "   Size     TT  DOI  TB  BASO%   NLR  Grade   PNI  LVI  Target\n",
       "0    15   5.49  3.8   2    0.7  2.29       2    0    0       0\n",
       "1    16   5.57  3.0   1    0.4  3.21       2    0    0       0\n",
       "2    15  10.61  0.2   1    0.8  2.23       2    0    0       0\n",
       "3    10  11.33  3.1   1    1.1  2.00       2    0    0       0\n",
       "4    28   5.84  3.2   2    0.1  2.29       2    0    0       0"
      ]
     },
     "execution_count": 6,
     "metadata": {},
     "output_type": "execute_result"
    }
   ],
   "source": [
    "# 划分训练集和测试集      \n",
    "X_train, X_test, y_train, y_test = train_test_split(X, \n",
    "                                                    y, \n",
    "                                                    test_size=0.2, \n",
    "                                                    random_state=42, \n",
    "                                                    stratify=df['Target'])\n",
    "# 观察前几行\n",
    "df.head()"
   ]
  },
  {
   "cell_type": "code",
   "execution_count": 7,
   "id": "748faadf",
   "metadata": {},
   "outputs": [],
   "source": [
    "from sklearn.model_selection import GridSearchCV  # 导入 GridSearchCV\n",
    "from sklearn.ensemble import RandomForestClassifier  # 导入随机森林分类器"
   ]
  },
  {
   "cell_type": "code",
   "execution_count": 8,
   "id": "91db2556",
   "metadata": {},
   "outputs": [
    {
     "name": "stdout",
     "output_type": "stream",
     "text": [
      "Fitting 5 folds for each of 432 candidates, totalling 2160 fits\n",
      "最优参数:  {'bootstrap': True, 'criterion': 'entropy', 'max_depth': 10, 'min_samples_leaf': 1, 'min_samples_split': 10, 'n_estimators': 200}\n",
      "最优得分:  0.830796731358529\n"
     ]
    }
   ],
   "source": [
    "# 初始化随机森林分类器\n",
    "\n",
    "model_rf = RandomForestClassifier(random_state=8)\n",
    "\n",
    "# 设置需要调优的参数网格\n",
    "\n",
    "param_grid = {\n",
    "    \n",
    "    'n_estimators': [50, 100, 200],         # 树的数量\n",
    "    \n",
    "    'max_depth': [3, 5, 10, None],          # 树的最大深度\n",
    "    \n",
    "    'min_samples_split': [2, 5, 10],         # 内部节点再划分所需的最小样本数\n",
    "    \n",
    "    'min_samples_leaf': [1, 2, 4],           # 叶子节点最小样本数\n",
    "    \n",
    "    'bootstrap': [True, False],              # 是否使用自助采样\n",
    "    \n",
    "    'criterion': ['gini', 'entropy']        # 分裂标准\n",
    "\n",
    "}\n",
    "\n",
    "# 使用GridSearchCV来寻找最优的超参数\n",
    "\n",
    "grid_search = GridSearchCV(estimator=model_rf, param_grid=param_grid, cv=5, verbose=1, n_jobs=-1)\n",
    "\n",
    "# 拟合模型\n",
    "grid_search.fit(X_train, y_train)\n",
    "\n",
    "# 打印最优参数和评分\n",
    "\n",
    "print(\"最优参数: \", grid_search.best_params_)\n",
    "\n",
    "print(\"最优得分: \", grid_search.best_score_)"
   ]
  },
  {
   "cell_type": "code",
   "execution_count": 9,
   "id": "d3392f84",
   "metadata": {},
   "outputs": [
    {
     "name": "stdout",
     "output_type": "stream",
     "text": [
      "测试集准确率:  0.8198198198198198\n"
     ]
    }
   ],
   "source": [
    "# 获取最优模型\n",
    "best_model = grid_search.best_estimator_\n",
    "\n",
    "# 在测试集上进行预测\n",
    "y_pred = best_model.predict(X_test)\n",
    "\n",
    "# 评估模型（例如，计算准确率） \n",
    "from sklearn.metrics import accuracy_score\n",
    "\n",
    "print(\"测试集准确率: \", accuracy_score(y_test, y_pred))"
   ]
  },
  {
   "cell_type": "code",
   "execution_count": 10,
   "id": "41c2e74b",
   "metadata": {},
   "outputs": [
    {
     "data": {
      "text/plain": [
       "RandomForestClassifier(criterion='entropy', max_depth=10, min_samples_split=10,\n",
       "                       n_estimators=200, random_state=8)"
      ]
     },
     "execution_count": 10,
     "metadata": {},
     "output_type": "execute_result"
    }
   ],
   "source": [
    "best_model.fit(X, y)"
   ]
  },
  {
   "cell_type": "code",
   "execution_count": 11,
   "id": "a2fc76d8",
   "metadata": {},
   "outputs": [
    {
     "name": "stdout",
     "output_type": "stream",
     "text": [
      "基准值: [0.65598375 0.34401625]\n",
      "shap值维度: (554, 9, 2)\n"
     ]
    }
   ],
   "source": [
    "import shap\n",
    "\n",
    "explainer = shap.TreeExplainer(best_model)\n",
    "\n",
    "shap_values = explainer.shap_values(X)\n",
    "\n",
    "print(\"基准值:\",explainer.expected_value)\n",
    "\n",
    "print(\"shap值维度:\",shap_values.shape)"
   ]
  },
  {
   "cell_type": "code",
   "execution_count": 28,
   "id": "f03cbe1e",
   "metadata": {},
   "outputs": [
    {
     "data": {
      "text/plain": [
       "<Figure size 1800x1500 with 0 Axes>"
      ]
     },
     "metadata": {},
     "output_type": "display_data"
    },
    {
     "data": {
      "image/png": "[encoded data removed]",
      "text/plain": [
       "<Figure size 2000x300 with 1 Axes>"
      ]
     },
     "metadata": {},
     "output_type": "display_data"
    }
   ],
   "source": [
    "plt.figure(figsize=(6, 5), dpi=300)\n",
    "\n",
    "# 可视化X中第1个样本的第0类别的SHAP值，展示各个特征对该样本在第0类别上的预测的贡献情况\n",
    "sample_index = 4\n",
    "\n",
    "# 绘制力图 \n",
    "shap.force_plot(\n",
    "                explainer.expected_value[1],          # 类别 1 的基准值（即模型在不知道任何特征时对类别 0 的平均预测值）\n",
    "                \n",
    "                shap_values[sample_index,:,1],        # 第1个样本的所有特征对类别0预测的SHAP值\n",
    "                \n",
    "                X_test.iloc[sample_index],            # 第0个样本的特征值，这里的f(X)=0.91实际上就是随机森林RF模型预测这一个样本为0这一类的概率\n",
    "                \n",
    "                matplotlib=True ,                    # 使用 Matplotlib 绘制可视化图形\n",
    "                \n",
    "                contribution_threshold=0.1,\n",
    "                \n",
    "                show=False)\n",
    "\n",
    "plt.tight_layout()\n",
    "\n",
    "# 保存图像为 PDF 文件 \n",
    "\n",
    "plt.savefig(\"SHAP_Waterfall_RF[1,0.09].pdf\", format='pdf', bbox_inches='tight')\n",
    "\n",
    "plt.show()"
   ]
  },
  {
   "cell_type": "code",
   "execution_count": 29,
   "id": "c205c60c",
   "metadata": {},
   "outputs": [
    {
     "data": {
      "image/png": "[encoded data removed]",
      "text/plain": [
       "<Figure size 2000x300 with 1 Axes>"
      ]
     },
     "metadata": {},
     "output_type": "display_data"
    }
   ],
   "source": [
    "# 可视化X中第1个样本的第0类别的SHAP值，展示各个特征对该样本在第0类别上的预测的贡献情况\n",
    "sample_index = 95\n",
    "\n",
    "# 绘制力图 \n",
    "shap.force_plot(\n",
    "                explainer.expected_value[1],          # 类别 1 的基准值（即模型在不知道任何特征时对类别 0 的平均预测值）\n",
    "                \n",
    "                shap_values[sample_index,:,1],        # 第1个样本的所有特征对类别0预测的SHAP值\n",
    "                \n",
    "                X_test.iloc[sample_index],            # 第0个样本的特征值，这里的f(X)=0.91实际上就是随机森林RF模型预测这一个样本为0这一类的概率\n",
    "                \n",
    "                matplotlib=True ,                    # 使用 Matplotlib 绘制可视化图形\n",
    "                \n",
    "                contribution_threshold=0.1,\n",
    "                \n",
    "                show=False)\n",
    "\n",
    "plt.tight_layout()\n",
    "\n",
    "# 保存图像为 PDF 文件 \n",
    "\n",
    "plt.savefig(\"SHAP_Waterfall_RF[1,0.94].pdf\", format='pdf', bbox_inches='tight')\n",
    "plt.show()"
   ]
  },
  {
   "cell_type": "code",
   "execution_count": null,
   "id": "f8987574",
   "metadata": {},
   "outputs": [],
   "source": []
  }
 ],
 "metadata": {
  "kernelspec": {
   "display_name": "Python 3 (ipykernel)",
   "language": "python",
   "name": "python3"
  },
  "language_info": {
   "codemirror_mode": {
    "name": "ipython",
    "version": 3
   },
   "file_extension": ".py",
   "mimetype": "text/x-python",
   "name": "python",
   "nbconvert_exporter": "python",
   "pygments_lexer": "ipython3",
   "version": "3.9.13"
  }
 },
 "nbformat": 4,
 "nbformat_minor": 5
}
